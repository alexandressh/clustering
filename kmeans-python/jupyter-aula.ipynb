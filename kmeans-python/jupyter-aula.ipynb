{
 "cells": [
  {
   "cell_type": "code",
   "execution_count": 8,
   "metadata": {},
   "outputs": [
    {
     "name": "stdout",
     "output_type": "stream",
     "text": [
      "Creating bag of words - vectorizer.fit_transform\n",
      "\n"
     ]
    }
   ],
   "source": [
    "import pandas\n",
    "import re\n",
    "\n",
    "from nltk.tokenize import RegexpTokenizer\n",
    "from nltk.stem import PorterStemmer\n",
    "\n",
    "from sklearn.feature_extraction.text import CountVectorizer,TfidfVectorizer\n",
    "\n",
    "url = 'data-pre-processing.csv'\n",
    "dataframe = pandas.read_csv(url)\n",
    "\n",
    "tokenizer = RegexpTokenizer(\"[\\w']+\")\n",
    "stemmer = PorterStemmer()\n",
    "vectorizer = TfidfVectorizer(stop_words='english')\n",
    "\n",
    "corpus = []\n",
    "\n",
    "# print(\"Removing contraction - replacer.replace\")\n",
    "# print(\"Removing special chars - re.sub\") -> Pay attention to <br> </br> (ouseébrHEUehUE)\n",
    "# print(\"Steeming words - steemer.stem\")\n",
    "for videoId,author,date,content,classification in dataframe.values:\n",
    "    comment = []\n",
    "    content = content.lower()\n",
    "    content = re.sub('\\<br\\\\\\>', '', content)\n",
    "    content = re.sub('(href.*)?http(.*)(\\.com)?', 'HTTPWEBSITE', content)\n",
    "    content = re.sub('[^A-Za-z0-9\\s]+', '', content)\n",
    "    for word in tokenizer.tokenize(content):\n",
    "            word = stemmer.stem(word)\n",
    "            comment.append(word)\n",
    "    corpus.append(\" \".join(comment))\n",
    "\n",
    "print(\"Creating bag of words - vectorizer.fit_transform\")\n",
    "#print(corpus[:100])\n",
    "print()\n",
    "\n",
    "vectorized =  vectorizer.fit_transform(corpus)"
   ]
  },
  {
   "cell_type": "code",
   "execution_count": null,
   "metadata": {
    "collapsed": true
   },
   "outputs": [],
   "source": []
  },
  {
   "cell_type": "code",
   "execution_count": null,
   "metadata": {
    "collapsed": true
   },
   "outputs": [],
   "source": []
  },
  {
   "cell_type": "code",
   "execution_count": 29,
   "metadata": {},
   "outputs": [
    {
     "name": "stdout",
     "output_type": "stream",
     "text": [
      "Clusters: 2 - 0.02140 - done in 1.440s\n",
      "Clusters: 3 - 0.07588 - done in 1.467s\n",
      "Clusters: 4 - 0.05338 - done in 1.811s\n",
      "Clusters: 5 - 0.08836 - done in 1.481s\n",
      "Clusters: 6 - 0.09310 - done in 1.603s\n",
      "Clusters: 7 - 0.09605 - done in 1.472s\n",
      "Clusters: 8 - 0.09571 - done in 1.806s\n",
      "Clusters: 9 - 0.09544 - done in 1.615s\n",
      "Clusters: 10 - 0.10319 - done in 2.020s\n",
      "Clusters: 11 - 0.10148 - done in 1.973s\n",
      "Clusters: 12 - 0.10154 - done in 2.925s\n",
      "Clusters: 13 - 0.10436 - done in 2.741s\n",
      "Clusters: 14 - 0.11352 - done in 2.784s\n",
      "Clusters: 15 - 0.11044 - done in 2.430s\n",
      "Clusters: 16 - 0.11636 - done in 3.103s\n",
      "Clusters: 17 - 0.11930 - done in 2.973s\n",
      "Clusters: 18 - 0.11688 - done in 3.798s\n",
      "Clusters: 19 - 0.11921 - done in 2.807s\n"
     ]
    },
    {
     "data": {
      "image/png": "[encoded data removed]",
      "text/plain": [
       "<matplotlib.figure.Figure at 0xa19b4eac8>"
      ]
     },
     "metadata": {},
     "output_type": "display_data"
    }
   ],
   "source": [
    "from sklearn.cluster import KMeans, MiniBatchKMeans\n",
    "from sklearn import metrics\n",
    "import matplotlib.pyplot as plt\n",
    "\n",
    "silhouetteValues = []\n",
    "maxK = 20\n",
    "\n",
    "\n",
    "for k in range(2, maxK):\n",
    "    km = KMeans(n_clusters=k, init='k-means++', max_iter=1000, n_init=1, verbose=False)\n",
    "    t0 = time()\n",
    "    km.fit(vectorized.toarray())\n",
    "    labels = km.labels_\n",
    "    silhouette = metrics.silhouette_score(vectorized.toarray(), labels, metric='euclidean')\n",
    "    silhouetteValues.append(silhouette)\n",
    "    print(\"Clusters: %d - %0.5f - done in %0.3fs\" % (k, silhouette, (time() - t0)))\n",
    "    true_k = k\n",
    "\n",
    "plt.title('Silhouette')\n",
    "plt.plot(list(range(2,maxK)), silhouetteValues)\n",
    "\n",
    "plt.show()\n",
    "\n",
    "# print(\"Top terms per cluster:\")\n",
    "# order_centroids = km.cluster_centers_.argsort()[:, ::-1]\n",
    "# terms = vectorizer.get_feature_names()\n",
    "# for i in range(true_k):\n",
    "#     print(\"Cluster %d:\" % i, end='')\n",
    "#     for ind in order_centroids[i, :10]:\n",
    "#         print(' %s' % terms[ind], end='')\n",
    "#     print()"
   ]
  },
  {
   "cell_type": "code",
   "execution_count": 21,
   "metadata": {},
   "outputs": [
    {
     "name": "stdout",
     "output_type": "stream",
     "text": [
      "range(2, 10)\n"
     ]
    }
   ],
   "source": []
  },
  {
   "cell_type": "code",
   "execution_count": 22,
   "metadata": {},
   "outputs": [
    {
     "name": "stdout",
     "output_type": "stream",
     "text": [
      "Compute structured hierarchical clustering...\n",
      "done in 8.970s\n",
      "\n",
      "Top terms per cluster:\n",
      "[[ 134  159]\n",
      " [ 585 1956]\n",
      " [ 825 1957]\n",
      " ..., \n",
      " [2107 3801]\n",
      " [3882 3907]\n",
      " [3908 3909]]\n",
      "[0 0 0 ..., 0 8 8]\n",
      "Cluster 0: 500 753\n",
      "Cluster 1: chack life\n",
      "Cluster 2: datpiffcommixtapesdetailphpid633807 life39\n",
      "Cluster 3: dispos lift\n",
      "Cluster 4: frigea light\n",
      "Cluster 5: hate lik\n",
      "Cluster 6: hrefhttpssoundcloudcomroccsteadywaveemojiprodbynippylongbottomcyberpunkhttpssoundcloudcomroccsteadywaveemojiprodbynippylongbottomcyberpunka like\n",
      "Cluster 7: httpminhatecacombrmaurosp2013filmesseriesdesenhosanimesmp3etc likeamp\n",
      "Cluster 8: httpshhortcomaroocnjqu2b likebr\n",
      "Cluster 9: jaylan likecom\n"
     ]
    }
   ],
   "source": [
    "from time import time\n",
    "from sklearn.cluster import AgglomerativeClustering\n",
    "\n",
    "print(\"Compute structured hierarchical clustering...\")\n",
    "\n",
    "n_clusters = 10  # number of regions\n",
    "ward = AgglomerativeClustering(n_clusters=n_clusters, linkage='ward')\n",
    "\n",
    "t0 = time()\n",
    "ward.fit(vectorized.toarray())\n",
    "print(\"done in %0.3fs\" % (time() - t0))\n",
    "\n",
    "print()\n",
    "print(\"Top terms per cluster:\")\n",
    "order_centroids = ward.children_\n",
    "terms = vectorizer.get_feature_names()\n",
    "print(ward.children_)\n",
    "print(ward.labels_ )\n",
    "for i in range(n_clusters):\n",
    "    print(\"Cluster %d:\" % i, end='')\n",
    "    for ind in order_centroids[i]:\n",
    "        print(' %s' % terms[ind], end='')\n",
    "    print()"
   ]
  },
  {
   "cell_type": "code",
   "execution_count": null,
   "metadata": {
    "collapsed": true
   },
   "outputs": [],
   "source": []
  }
 ],
 "metadata": {
  "kernelspec": {
   "display_name": "Python 3",
   "language": "python",
   "name": "python3"
  },
  "language_info": {
   "codemirror_mode": {
    "name": "ipython",
    "version": 3
   },
   "file_extension": ".py",
   "mimetype": "text/x-python",
   "name": "python",
   "nbconvert_exporter": "python",
   "pygments_lexer": "ipython3",
   "version": "3.6.2"
  }
 },
 "nbformat": 4,
 "nbformat_minor": 2
}
