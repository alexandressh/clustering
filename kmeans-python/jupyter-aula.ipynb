{
 "cells": [
  {
   "cell_type": "code",
   "execution_count": 31,
   "metadata": {},
   "outputs": [
    {
     "name": "stdout",
     "output_type": "stream",
     "text": [
      "Creating bag of words - vectorizer.fit_transform\n",
      "1956\n",
      "\n"
     ]
    }
   ],
   "source": [
    "import pandas\n",
    "import re\n",
    "\n",
    "from nltk.tokenize import RegexpTokenizer\n",
    "from nltk.stem import PorterStemmer\n",
    "\n",
    "from sklearn.feature_extraction.text import CountVectorizer,TfidfVectorizer\n",
    "\n",
    "url = 'data-pre-processing.csv'\n",
    "dataframe = pandas.read_csv(url)\n",
    "\n",
    "tokenizer = RegexpTokenizer(\"[\\w']+\")\n",
    "stemmer = PorterStemmer()\n",
    "vectorizer = TfidfVectorizer(stop_words='english')\n",
    "\n",
    "corpus = []\n",
    "\n",
    "# print(\"Removing contraction - replacer.replace\")\n",
    "# print(\"Removing special chars - re.sub\") -> Pay attention to <br> </br> (ouseébrHEUehUE)\n",
    "# print(\"Steeming words - steemer.stem\")\n",
    "for videoId,author,date,content,classification in dataframe.values:\n",
    "    comment = []\n",
    "    content = content.lower()\n",
    "    content = re.sub('\\<br\\\\\\>', '', content)\n",
    "    content = re.sub('(href.*)?http(.*)(\\.com)?', 'HTTPWEBSITE', content)\n",
    "    content = re.sub('[^A-Za-z0-9\\s]+', '', content)\n",
    "    for word in tokenizer.tokenize(content):\n",
    "            word = stemmer.stem(word)\n",
    "            comment.append(word)\n",
    "    corpus.append(\" \".join(comment))\n",
    "\n",
    "print(\"Creating bag of words - vectorizer.fit_transform\")\n",
    "print()\n",
    "\n",
    "vectorized =  vectorizer.fit_transform(corpus)"
   ]
  },
  {
   "cell_type": "code",
   "execution_count": 32,
   "metadata": {},
   "outputs": [
    {
     "name": "stdout",
     "output_type": "stream",
     "text": [
      "Clusters: 2 - 0.04177 - done in 5.990s\n",
      "Clusters: 3 - 0.07588 - done in 6.142s\n",
      "Clusters: 4 - 0.08317 - done in 9.247s\n",
      "Clusters: 5 - 0.08813 - done in 10.656s\n",
      "Clusters: 6 - 0.09139 - done in 12.210s\n",
      "Clusters: 7 - 0.09985 - done in 16.191s\n",
      "Clusters: 8 - 0.10563 - done in 15.698s\n",
      "Clusters: 9 - 0.10144 - done in 14.845s\n",
      "Clusters: 10 - 0.10977 - done in 10.165s\n",
      "Clusters: 11 - 0.10565 - done in 14.423s\n",
      "Clusters: 12 - 0.10874 - done in 17.546s\n",
      "Clusters: 13 - 0.11699 - done in 18.486s\n",
      "Clusters: 14 - 0.11376 - done in 19.399s\n",
      "Clusters: 15 - 0.12004 - done in 22.404s\n",
      "Clusters: 16 - 0.12365 - done in 20.652s\n",
      "Clusters: 17 - 0.12480 - done in 19.129s\n",
      "Clusters: 18 - 0.12288 - done in 20.041s\n",
      "Clusters: 19 - 0.12924 - done in 22.587s\n"
     ]
    },
    {
     "data": {
      "image/png": "[encoded data removed]",
      "text/plain": [
       "<matplotlib.figure.Figure at 0xa19c76898>"
      ]
     },
     "metadata": {},
     "output_type": "display_data"
    },
    {
     "name": "stdout",
     "output_type": "stream",
     "text": [
      "Top terms per cluster:\n",
      "Cluster 0: httpwebsit love thi channel like subscrib video guy playlist perri\n",
      "Cluster 1: billion eminem charli lost rihanna page adfli kld3i beat adam\n",
      "Cluster 2: good make moneygqcom zonepacom doe work check money home onlin\n",
      "Cluster 3: like thi comment song pleas video subscrib httpwebsit reason peopl\n",
      "Cluster 4: br waka wow youtubebr check thi video subscrib playlist shakira\n",
      "Cluster 5: thi song check video awesom httpwebsit parti just new love\n",
      "Cluster 6: channel pleas check music thank video hey just guy cover\n",
      "Cluster 7: youtub video check thi look br httpwebsit channel love like\n",
      "Cluster 8: best song world cup eminem lmfao time music old katti\n",
      "Cluster 9: subscrib channel pleas video come i39 thank like feed chanel\n",
      "Cluster 10: shakira love best beauti wiredo ilov like perfect nice sexi\n",
      "Cluster 11: love song thi eminem way lie make subscrib wanna danc\n",
      "Cluster 12: view billion thi video million ha onli came check just\n",
      "Cluster 13: playlist youtub check thi youtubea youtubem youtubehbbhhhgh youtubepl youtubechcfcvzfzfbvzdr youtubecentr\n",
      "Cluster 14: nice kati perri song roar offici love httpwebsit veri lt\n",
      "Cluster 15: lt follow perfect twitter httpwebsit instagram love perri katti eminem\n",
      "Cluster 16: 2015 watch like thi thumb listen subscrib comment im song\n",
      "Cluster 17: cool song check video swagfriend movement new rap thousand wa\n",
      "Cluster 18: beauti song girl sooooo american man love rihanna cuti thi\n"
     ]
    }
   ],
   "source": [
    "from sklearn.cluster import KMeans, MiniBatchKMeans\n",
    "from sklearn import metrics\n",
    "import matplotlib.pyplot as plt\n",
    "\n",
    "silhouetteValues = []\n",
    "maxK = 20\n",
    "\n",
    "\n",
    "for k in range(2, maxK):\n",
    "    km = KMeans(n_clusters=k, init='k-means++', max_iter=1000, verbose=False)\n",
    "    t0 = time()\n",
    "    km.fit(vectorized.toarray())\n",
    "    labels = km.labels_\n",
    "    silhouette = metrics.silhouette_score(vectorized.toarray(), labels, metric='euclidean')\n",
    "    silhouetteValues.append(silhouette)\n",
    "    print(\"Clusters: %d - %0.5f - done in %0.3fs\" % (k, silhouette, (time() - t0)))\n",
    "    true_k = k\n",
    "\n",
    "plt.title('Silhouette')\n",
    "plt.plot(list(range(2,maxK)), silhouetteValues)\n",
    "\n",
    "plt.show()\n",
    "\n",
    "print(\"Top terms per cluster:\")\n",
    "order_centroids = km.cluster_centers_.argsort()[:, ::-1]\n",
    "terms = vectorizer.get_feature_names()\n",
    "for i in range(true_k):\n",
    "    print(\"Cluster %d:\" % i, end='')\n",
    "    for ind in order_centroids[i, :10]:\n",
    "        print(' %s' % terms[ind], end='')\n",
    "    print()"
   ]
  },
  {
   "cell_type": "code",
   "execution_count": 22,
   "metadata": {},
   "outputs": [
    {
     "name": "stdout",
     "output_type": "stream",
     "text": [
      "Compute structured hierarchical clustering...\n",
      "done in 8.970s\n",
      "\n",
      "Top terms per cluster:\n",
      "[[ 134  159]\n",
      " [ 585 1956]\n",
      " [ 825 1957]\n",
      " ..., \n",
      " [2107 3801]\n",
      " [3882 3907]\n",
      " [3908 3909]]\n",
      "[0 0 0 ..., 0 8 8]\n",
      "Cluster 0: 500 753\n",
      "Cluster 1: chack life\n",
      "Cluster 2: datpiffcommixtapesdetailphpid633807 life39\n",
      "Cluster 3: dispos lift\n",
      "Cluster 4: frigea light\n",
      "Cluster 5: hate lik\n",
      "Cluster 6: hrefhttpssoundcloudcomroccsteadywaveemojiprodbynippylongbottomcyberpunkhttpssoundcloudcomroccsteadywaveemojiprodbynippylongbottomcyberpunka like\n",
      "Cluster 7: httpminhatecacombrmaurosp2013filmesseriesdesenhosanimesmp3etc likeamp\n",
      "Cluster 8: httpshhortcomaroocnjqu2b likebr\n",
      "Cluster 9: jaylan likecom\n"
     ]
    }
   ],
   "source": [
    "from time import time\n",
    "from sklearn.cluster import AgglomerativeClustering\n",
    "\n",
    "print(\"Compute structured hierarchical clustering...\")\n",
    "\n",
    "n_clusters = 10  # number of regions\n",
    "ward = AgglomerativeClustering(n_clusters=n_clusters, linkage='ward')\n",
    "\n",
    "t0 = time()\n",
    "ward.fit(vectorized.toarray())\n",
    "print(\"done in %0.3fs\" % (time() - t0))\n",
    "\n",
    "print()\n",
    "print(\"Top terms per cluster:\")\n",
    "order_centroids = ward.children_\n",
    "terms = vectorizer.get_feature_names()\n",
    "print(ward.children_)\n",
    "print(ward.labels_ )\n",
    "for i in range(n_clusters):\n",
    "    print(\"Cluster %d:\" % i, end='')\n",
    "    for ind in order_centroids[i]:\n",
    "        print(' %s' % terms[ind], end='')\n",
    "    print()"
   ]
  },
  {
   "cell_type": "code",
   "execution_count": null,
   "metadata": {
    "collapsed": true
   },
   "outputs": [],
   "source": []
  }
 ],
 "metadata": {
  "kernelspec": {
   "display_name": "Python 3",
   "language": "python",
   "name": "python3"
  },
  "language_info": {
   "codemirror_mode": {
    "name": "ipython",
    "version": 3
   },
   "file_extension": ".py",
   "mimetype": "text/x-python",
   "name": "python",
   "nbconvert_exporter": "python",
   "pygments_lexer": "ipython3",
   "version": "3.6.2"
  }
 },
 "nbformat": 4,
 "nbformat_minor": 2
}
