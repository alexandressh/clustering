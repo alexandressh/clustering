{
 "cells": [
  {
   "cell_type": "code",
   "execution_count": 32,
   "metadata": {},
   "outputs": [
    {
     "name": "stdout",
     "output_type": "stream",
     "text": [
      "Creating bag of words - vectorizer.fit_transform\n",
      "\n",
      "\n",
      "Clustering sparse data with KMeans(algorithm='auto', copy_x=True, init='k-means++', max_iter=1000,\n",
      "    n_clusters=10, n_init=1, n_jobs=1, precompute_distances='auto',\n",
      "    random_state=None, tol=0.0001, verbose=False)\n",
      "done in 1.511s\n",
      "\n",
      "Top terms per cluster:\n",
      "Cluster 0: song best good nice shakira katy awesome video 2015 beautiful\n",
      "Cluster 1: right didnt music rand close just new believe hit chinese\n",
      "Cluster 2: youtube video check playlist look liked popular br uploaded regret\n",
      "Cluster 3: way lie love check make 4netjobscom paid 4000 work don39\n",
      "Cluster 4: love song shakira makes eminem rihanna perry lt subscribe katy\n",
      "Cluster 5: views billion million video came people just checking reach im\n",
      "Cluster 6: like comment song 2015 watching good reason video perry just\n",
      "Cluster 7: check br music video new guys waka just make money\n",
      "Cluster 8: channel check sub music hey visit subscribe youtube thanks guys\n",
      "Cluster 9: subscribe channel videos like guys ill hey feed come i39\n"
     ]
    }
   ],
   "source": [
    "from time import time\n",
    "import pandas\n",
    "import re\n",
    "\n",
    "# from nltk.stem import PorterStemmer\n",
    "\n",
    "from sklearn.feature_extraction.text import CountVectorizer,TfidfVectorizer\n",
    "from sklearn.cluster import KMeans, MiniBatchKMeans\n",
    "\n",
    "#from replacers import RegexpReplacer\n",
    "\n",
    "url = 'data-pre-processing.csv'\n",
    "dataframe = pandas.read_csv(url)\n",
    "\n",
    "# replacer = RegexpReplacer()\n",
    "# stemmer = PorterStemmer()\n",
    "vectorizer = TfidfVectorizer(stop_words='english')\n",
    "\n",
    "corpus = []\n",
    "\n",
    "# print(\"Removing contraction - replacer.replace\")\n",
    "# print(\"Removing special chars - re.sub\") -> Pay attention to <br> </br> (ouseébrHEUehUE)\n",
    "# print(\"Steeming words - steemer.stem\")\n",
    "for videoId,author,date,content,classification in dataframe.values:\n",
    "    content = content.lower()\n",
    "    content = re.sub('[^A-Za-z0-9\\s]+', '', content)\n",
    "    corpus.append(\"\".join(content))\n",
    "\n",
    "print(\"Creating bag of words - vectorizer.fit_transform\")\n",
    "print()\n",
    "print()\n",
    "\n",
    "vectorized =  vectorizer.fit_transform(corpus)\n",
    "\n",
    "true_k = 10\n",
    "km = KMeans(n_clusters=true_k, init='k-means++', max_iter=1000, n_init=1,\n",
    "                verbose=False)\n",
    "\n",
    "print(\"Clustering sparse data with %s\" % km)\n",
    "t0 = time()\n",
    "km.fit(vectorized.toarray())\n",
    "print(\"done in %0.3fs\" % (time() - t0))\n",
    "\n",
    "\n",
    "print()\n",
    "print(\"Top terms per cluster:\")\n",
    "order_centroids = km.cluster_centers_.argsort()[:, ::-1]\n",
    "terms = vectorizer.get_feature_names()\n",
    "for i in range(true_k):\n",
    "    print(\"Cluster %d:\" % i, end='')\n",
    "    for ind in order_centroids[i, :10]:\n",
    "        print(' %s' % terms[ind], end='')\n",
    "    print()"
   ]
  },
  {
   "cell_type": "code",
   "execution_count": null,
   "metadata": {},
   "outputs": [],
   "source": []
  },
  {
   "cell_type": "code",
   "execution_count": null,
   "metadata": {},
   "outputs": [],
   "source": []
  },
  {
   "cell_type": "code",
   "execution_count": null,
   "metadata": {},
   "outputs": [],
   "source": []
  }
 ],
 "metadata": {
  "kernelspec": {
   "display_name": "Python 3",
   "language": "python",
   "name": "python3"
  },
  "language_info": {
   "codemirror_mode": {
    "name": "ipython",
    "version": 3
   },
   "file_extension": ".py",
   "mimetype": "text/x-python",
   "name": "python",
   "nbconvert_exporter": "python",
   "pygments_lexer": "ipython3",
   "version": "3.6.2"
  }
 },
 "nbformat": 4,
 "nbformat_minor": 2
}
